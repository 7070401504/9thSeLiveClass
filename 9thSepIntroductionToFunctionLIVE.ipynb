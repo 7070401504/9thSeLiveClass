{
 "cells": [
  {
   "cell_type": "code",
   "execution_count": 4,
   "id": "59d86faf",
   "metadata": {},
   "outputs": [
    {
     "name": "stdout",
     "output_type": "stream",
     "text": [
      "positive number\n",
      "this is a aswas print\n"
     ]
    }
   ],
   "source": [
    "number =23\n",
    "\n",
    "if number >0:\n",
    "    print(\"positive number\")\n",
    "elif number==o:\n",
    "    print(\"zero\")\n",
    "else:\n",
    "    print(\"negative number \")\n",
    "    \n",
    "print(\"this is a aswas print\")"
   ]
  },
  {
   "cell_type": "code",
   "execution_count": 12,
   "id": "c994929f",
   "metadata": {},
   "outputs": [
    {
     "name": "stdout",
     "output_type": "stream",
     "text": [
      "0\n",
      "1\n",
      "2\n",
      "3\n",
      "4\n"
     ]
    }
   ],
   "source": [
    "for i in range(5):\n",
    "     print(i)"
   ]
  },
  {
   "cell_type": "code",
   "execution_count": 15,
   "id": "410490ef",
   "metadata": {},
   "outputs": [
    {
     "name": "stdout",
     "output_type": "stream",
     "text": [
      "today is mon\n",
      "today is tue\n",
      "today is wed\n",
      "today is thiu\n",
      "today is fri\n",
      "today is satur\n",
      "today is sun\n"
     ]
    }
   ],
   "source": [
    "days=0\n",
    "week=[\"mon\",\"tue\",\"wed\",\"thiu\",\"fri\",\"satur\",\"sun\"]\n",
    "while days<7:\n",
    "    print(\"today is \"+week[days])\n",
    "    days +=1"
   ]
  },
  {
   "cell_type": "code",
   "execution_count": 18,
   "id": "661ce3dc",
   "metadata": {},
   "outputs": [
    {
     "data": {
      "text/plain": [
       "'mon'"
      ]
     },
     "execution_count": 18,
     "metadata": {},
     "output_type": "execute_result"
    }
   ],
   "source": [
    "week[0]"
   ]
  },
  {
   "cell_type": "code",
   "execution_count": 19,
   "id": "8e07a72f",
   "metadata": {},
   "outputs": [],
   "source": [
    "#split"
   ]
  },
  {
   "cell_type": "code",
   "execution_count": 21,
   "id": "beb90cd1",
   "metadata": {},
   "outputs": [
    {
     "data": {
      "text/plain": [
       "['i', 'write', 'a', 'code']"
      ]
     },
     "execution_count": 21,
     "metadata": {},
     "output_type": "execute_result"
    }
   ],
   "source": [
    "text=\" i write a code \"\n",
    "text.split()"
   ]
  },
  {
   "cell_type": "code",
   "execution_count": 22,
   "id": "e927e3da",
   "metadata": {},
   "outputs": [
    {
     "data": {
      "text/plain": [
       "['mijdiuhd', 'diduhs', 'oisdiugs', 'idududsyg']"
      ]
     },
     "execution_count": 22,
     "metadata": {},
     "output_type": "execute_result"
    }
   ],
   "source": [
    "a= \" mijdiuhd diduhs oisdiugs idududsyg\"\n",
    "a.split()"
   ]
  },
  {
   "cell_type": "code",
   "execution_count": 23,
   "id": "dbb55834",
   "metadata": {},
   "outputs": [
    {
     "data": {
      "text/plain": [
       "['i', 'love', 'python']"
      ]
     },
     "execution_count": 23,
     "metadata": {},
     "output_type": "execute_result"
    }
   ],
   "source": [
    "b=( \"i love python\")\n",
    "b.split()"
   ]
  },
  {
   "cell_type": "code",
   "execution_count": 24,
   "id": "509b1a13",
   "metadata": {},
   "outputs": [
    {
     "name": "stdout",
     "output_type": "stream",
     "text": [
      "enter 3 word message welcome to pw\n"
     ]
    }
   ],
   "source": [
    "x=input(\"enter 3 word message \")\n"
   ]
  },
  {
   "cell_type": "code",
   "execution_count": 25,
   "id": "e2951d1b",
   "metadata": {},
   "outputs": [
    {
     "data": {
      "text/plain": [
       "['welcome', 'to', 'pw']"
      ]
     },
     "execution_count": 25,
     "metadata": {},
     "output_type": "execute_result"
    }
   ],
   "source": [
    "x.split()"
   ]
  },
  {
   "cell_type": "code",
   "execution_count": 26,
   "id": "daf9dc11",
   "metadata": {},
   "outputs": [],
   "source": [
    "y=1"
   ]
  },
  {
   "cell_type": "code",
   "execution_count": 27,
   "id": "30dce756",
   "metadata": {},
   "outputs": [],
   "source": [
    "y,z=2,4"
   ]
  },
  {
   "cell_type": "code",
   "execution_count": 34,
   "id": "be5d86dc",
   "metadata": {},
   "outputs": [
    {
     "data": {
      "text/plain": [
       "10"
      ]
     },
     "execution_count": 34,
     "metadata": {},
     "output_type": "execute_result"
    }
   ],
   "source": [
    "(a+b)"
   ]
  },
  {
   "cell_type": "code",
   "execution_count": 37,
   "id": "ddaac4c2",
   "metadata": {},
   "outputs": [
    {
     "name": "stdout",
     "output_type": "stream",
     "text": [
      "enter two number sepreactsd by space 4 6\n",
      "10\n"
     ]
    }
   ],
   "source": [
    "x=input(\"enter two number sepreactsd by space \")\n",
    "sum =int(x.split()[0])+int(x.split()[1])\n",
    "print(sum)"
   ]
  },
  {
   "cell_type": "code",
   "execution_count": null,
   "id": "6dfdb93b",
   "metadata": {},
   "outputs": [
    {
     "name": "stdout",
     "output_type": "stream",
     "text": [
      "enter roll n0,name and percentage 3 pw 45\n"
     ]
    }
   ],
   "source": [
    "s=input(\"enter roll n0,name and percentage \")\n",
    "roll,name,percentage =s.split()\n",
    "print(roll)\n",
    "print(name)\n",
    "print(precentage)"
   ]
  },
  {
   "cell_type": "code",
   "execution_count": null,
   "id": "d401912e",
   "metadata": {},
   "outputs": [
    {
     "name": "stdout",
     "output_type": "stream",
     "text": [
      "enter roll number, name, and percentage 3 pw 45\n"
     ]
    }
   ],
   "source": [
    "s = input(\"enter roll number, name, and percentage \")\n",
    "roll, name, percentage = s.split()\n",
    "print(roll)\n",
    "print(name)\n",
    "print(percentage)\n"
   ]
  },
  {
   "cell_type": "code",
   "execution_count": 1,
   "id": "bddeac13",
   "metadata": {},
   "outputs": [
    {
     "name": "stdout",
     "output_type": "stream",
     "text": [
      "['A', 'B', 'C', 'D', 'E F']\n"
     ]
    }
   ],
   "source": [
    "s1=\"A B C D E F\"\n",
    "print(s1.split(\" \",4))"
   ]
  },
  {
   "cell_type": "code",
   "execution_count": 4,
   "id": "206b0f78",
   "metadata": {},
   "outputs": [
    {
     "data": {
      "text/plain": [
       "['hii', 'hii', 'hii@@hii']"
      ]
     },
     "execution_count": 4,
     "metadata": {},
     "output_type": "execute_result"
    }
   ],
   "source": [
    "s1=\"hii@hii@hii@@hii\"\n",
    "s1.split(\"@\",2)"
   ]
  },
  {
   "cell_type": "code",
   "execution_count": 7,
   "id": "11c67a9f",
   "metadata": {},
   "outputs": [
    {
     "name": "stdout",
     "output_type": "stream",
     "text": [
      "letter s\n",
      "letter h\n",
      "letter a\n",
      "letter h\n",
      "letter a\n",
      "letter n\n",
      "letter s\n",
      "letter h\n",
      "letter a\n",
      "letter h\n"
     ]
    }
   ],
   "source": [
    "for letter in \"shahanshah\":\n",
    "    print(\"letter\",letter)"
   ]
  },
  {
   "cell_type": "code",
   "execution_count": 1,
   "id": "55c2b531",
   "metadata": {},
   "outputs": [
    {
     "name": "stdout",
     "output_type": "stream",
     "text": [
      "letter s\n",
      "letter h\n",
      "letter a\n",
      "letter h\n",
      "letter a\n"
     ]
    }
   ],
   "source": [
    "for letter in \"shahanshah\":\n",
    "    if letter==\"n\":\n",
    "        break\n",
    "    print(\"letter\",letter)"
   ]
  },
  {
   "cell_type": "code",
   "execution_count": 13,
   "id": "e35e7e12",
   "metadata": {},
   "outputs": [
    {
     "name": "stdout",
     "output_type": "stream",
     "text": [
      "0\n",
      "1\n",
      "2\n"
     ]
    }
   ],
   "source": [
    "for i in range(5):\n",
    "    if i==3:\n",
    "        break\n",
    "    print(i)"
   ]
  },
  {
   "cell_type": "code",
   "execution_count": 12,
   "id": "2c5bfaa5",
   "metadata": {},
   "outputs": [
    {
     "name": "stdout",
     "output_type": "stream",
     "text": [
      "0\n",
      "1\n",
      "2\n"
     ]
    }
   ],
   "source": [
    "for i in range(5):\n",
    "    if i == 3:\n",
    "        break\n",
    "    print(i)\n"
   ]
  },
  {
   "cell_type": "code",
   "execution_count": 2,
   "id": "ab89a5b6",
   "metadata": {},
   "outputs": [
    {
     "data": {
      "text/plain": [
       "[0, 1, 2, 3, 4]"
      ]
     },
     "execution_count": 2,
     "metadata": {},
     "output_type": "execute_result"
    }
   ],
   "source": [
    "list(range(5))"
   ]
  },
  {
   "cell_type": "code",
   "execution_count": 9,
   "id": "f8df5cc9",
   "metadata": {},
   "outputs": [
    {
     "ename": "IndentationError",
     "evalue": "unindent does not match any outer indentation level (<tokenize>, line 7)",
     "output_type": "error",
     "traceback": [
      "\u001b[0;36m  File \u001b[0;32m<tokenize>:7\u001b[0;36m\u001b[0m\n\u001b[0;31m    i=i+5\u001b[0m\n\u001b[0m    ^\u001b[0m\n\u001b[0;31mIndentationError\u001b[0m\u001b[0;31m:\u001b[0m unindent does not match any outer indentation level\n"
     ]
    }
   ],
   "source": [
    "i=1\n",
    "\n",
    "while i<=10:\n",
    "    print(i)\n",
    "    if i >=5:\n",
    "         break\n",
    "        i=i+5"
   ]
  },
  {
   "cell_type": "code",
   "execution_count": 13,
   "id": "3db8c2fb",
   "metadata": {},
   "outputs": [
    {
     "ename": "SyntaxError",
     "evalue": "invalid syntax (2896553634.py, line 5)",
     "output_type": "error",
     "traceback": [
      "\u001b[0;36m  Cell \u001b[0;32mIn[13], line 5\u001b[0;36m\u001b[0m\n\u001b[0;31m    if i < = 5:\u001b[0m\n\u001b[0m           ^\u001b[0m\n\u001b[0;31mSyntaxError\u001b[0m\u001b[0;31m:\u001b[0m invalid syntax\n"
     ]
    }
   ],
   "source": [
    "i = 1\n",
    "\n",
    "while i <= 10:\n",
    "    print(i)\n",
    "    if i < = 5:\n",
    "        break\n",
    "    i = i + 5\n"
   ]
  },
  {
   "cell_type": "code",
   "execution_count": 14,
   "id": "e169c929",
   "metadata": {},
   "outputs": [
    {
     "name": "stdout",
     "output_type": "stream",
     "text": [
      "1\n",
      "6\n"
     ]
    }
   ],
   "source": [
    "i = 1\n",
    "\n",
    "while i <= 10:\n",
    "    print(i)\n",
    "    if i >= 5:\n",
    "        break\n",
    "    i = i + 5\n"
   ]
  },
  {
   "cell_type": "code",
   "execution_count": 3,
   "id": "c67507e0",
   "metadata": {},
   "outputs": [
    {
     "name": "stdout",
     "output_type": "stream",
     "text": [
      "12\n",
      "20\n",
      "30\n",
      "43\n"
     ]
    }
   ],
   "source": [
    "number=[12,20,30,43,344,4334,6]\n",
    "for i in number:\n",
    "    if i >100:\n",
    "        break\n",
    "    print(i)"
   ]
  },
  {
   "cell_type": "code",
   "execution_count": 11,
   "id": "ddc52127",
   "metadata": {},
   "outputs": [
    {
     "name": "stdout",
     "output_type": "stream",
     "text": [
      "m\n",
      "o\n",
      "h\n",
      "a\n",
      "m\n",
      "m\n",
      "a\n",
      "d\n",
      " \n",
      ",\n",
      " \n",
      "s\n",
      "h\n",
      "a\n",
      "a\n",
      "h\n",
      "n\n",
      "s\n",
      "h\n",
      "a\n",
      "a\n",
      "h\n"
     ]
    }
   ],
   "source": [
    "s= \"mohammad , shaahnshaah\"\n",
    "for char in s :\n",
    "    print(char)\n",
    "    if char==\", \":\n",
    "        break"
   ]
  },
  {
   "cell_type": "code",
   "execution_count": 13,
   "id": "09d908e8",
   "metadata": {},
   "outputs": [
    {
     "name": "stdout",
     "output_type": "stream",
     "text": [
      "h\n",
      "e\n",
      "l\n",
      "l\n",
      "o\n",
      ",\n",
      "w\n",
      "o\n",
      "r\n",
      "l\n",
      "d\n"
     ]
    }
   ],
   "source": [
    "s = \"hello,world\"\n",
    "for char in s:\n",
    "    print(char)\n",
    "    if char == \", \":\n",
    "        break\n",
    "\n",
    "        "
   ]
  },
  {
   "cell_type": "code",
   "execution_count": 18,
   "id": "b6e3a737",
   "metadata": {},
   "outputs": [
    {
     "name": "stdout",
     "output_type": "stream",
     "text": [
      "p\n",
      "w\n",
      "s\n",
      "k\n",
      "i\n"
     ]
    }
   ],
   "source": [
    "for letter in \"pwskill\":\n",
    "    if letter== \"l\":\n",
    "            continue\n",
    "    print(letter)"
   ]
  },
  {
   "cell_type": "code",
   "execution_count": 35,
   "id": "2f018bce",
   "metadata": {},
   "outputs": [
    {
     "name": "stdout",
     "output_type": "stream",
     "text": [
      "0\n",
      "1\n",
      "2\n",
      "4\n"
     ]
    }
   ],
   "source": [
    "for i in range(5):\n",
    "     if i==3:\n",
    "        continue\n",
    "     print(i)\n",
    "    # break ..... end the loop \n",
    "    #continue ... skip thre loop"
   ]
  },
  {
   "cell_type": "code",
   "execution_count": 37,
   "id": "092ca94b",
   "metadata": {},
   "outputs": [],
   "source": [
    "#write a program to print odd number from 1 to 10"
   ]
  },
  {
   "cell_type": "code",
   "execution_count": 46,
   "id": "4d2f53f9",
   "metadata": {},
   "outputs": [
    {
     "name": "stdout",
     "output_type": "stream",
     "text": [
      "1\n",
      "3\n",
      "5\n",
      "7\n",
      "9\n"
     ]
    }
   ],
   "source": [
    "for i in range (1,11):\n",
    "    if i%2==0:\n",
    "       continue \n",
    "    print(i)"
   ]
  },
  {
   "cell_type": "code",
   "execution_count": 47,
   "id": "f168f33b",
   "metadata": {},
   "outputs": [
    {
     "name": "stdout",
     "output_type": "stream",
     "text": [
      "2\n",
      "4\n",
      "6\n",
      "8\n",
      "10\n"
     ]
    }
   ],
   "source": [
    "for i in range (1,11):\n",
    "    if i%2!=0:\n",
    "       continue \n",
    "    print(i)"
   ]
  },
  {
   "cell_type": "code",
   "execution_count": 60,
   "id": "2c87cf6a",
   "metadata": {},
   "outputs": [
    {
     "name": "stdout",
     "output_type": "stream",
     "text": [
      "2\n",
      "4\n",
      "6\n",
      "8\n",
      "10\n"
     ]
    }
   ],
   "source": [
    "for i in range (1,11):\n",
    "    if i%2!=0:\n",
    "        continue\n",
    "    print(i)"
   ]
  },
  {
   "cell_type": "code",
   "execution_count": 61,
   "id": "af98d0e1",
   "metadata": {},
   "outputs": [
    {
     "name": "stdout",
     "output_type": "stream",
     "text": [
      "hello\n"
     ]
    }
   ],
   "source": [
    "n=10\n",
    "if n>10:\n",
    "    pass\n",
    "print(\"hello\")"
   ]
  },
  {
   "cell_type": "code",
   "execution_count": null,
   "id": "0bcb1eb1",
   "metadata": {},
   "outputs": [],
   "source": [
    "for i in range(5):\n",
    "    pass"
   ]
  },
  {
   "cell_type": "code",
   "execution_count": 62,
   "id": "6fe18d1d",
   "metadata": {},
   "outputs": [
    {
     "ename": "SyntaxError",
     "evalue": "incomplete input (2115166931.py, line 1)",
     "output_type": "error",
     "traceback": [
      "\u001b[0;36m  Cell \u001b[0;32mIn[62], line 1\u001b[0;36m\u001b[0m\n\u001b[0;31m    if n>45:\u001b[0m\n\u001b[0m            ^\u001b[0m\n\u001b[0;31mSyntaxError\u001b[0m\u001b[0;31m:\u001b[0m incomplete input\n"
     ]
    }
   ],
   "source": [
    "if n>45:"
   ]
  },
  {
   "cell_type": "code",
   "execution_count": 63,
   "id": "beed6124",
   "metadata": {},
   "outputs": [
    {
     "name": "stdout",
     "output_type": "stream",
     "text": [
      "p\n",
      "w\n",
      "s\n",
      "k\n",
      "i\n",
      "l\n",
      "l\n"
     ]
    }
   ],
   "source": [
    "for letter in \"pwskill\":\n",
    "    if letter== \"l\":\n",
    "            pass\n",
    "    print(letter)"
   ]
  },
  {
   "cell_type": "code",
   "execution_count": 66,
   "id": "bc349576",
   "metadata": {},
   "outputs": [
    {
     "name": "stdout",
     "output_type": "stream",
     "text": [
      "p\n",
      "w\n",
      "s\n",
      "k\n",
      "i\n"
     ]
    }
   ],
   "source": [
    "for letter in \"pwskill\":\n",
    "    if letter== \"l\":\n",
    "            continue\n",
    "    print(letter)\n",
    "    "
   ]
  },
  {
   "cell_type": "markdown",
   "id": "988e9a88",
   "metadata": {},
   "source": [
    "# function"
   ]
  },
  {
   "cell_type": "code",
   "execution_count": 67,
   "id": "bc10fcee",
   "metadata": {},
   "outputs": [
    {
     "name": "stdout",
     "output_type": "stream",
     "text": [
      "30\n"
     ]
    }
   ],
   "source": [
    "a=10\n",
    "b=20\n",
    "print(a+b)"
   ]
  },
  {
   "cell_type": "code",
   "execution_count": 68,
   "id": "5eeb84e4",
   "metadata": {},
   "outputs": [
    {
     "name": "stdout",
     "output_type": "stream",
     "text": [
      "114\n"
     ]
    }
   ],
   "source": [
    "a=80\n",
    "b=34\n",
    "print(a+b)"
   ]
  },
  {
   "cell_type": "code",
   "execution_count": 69,
   "id": "e9f24887",
   "metadata": {},
   "outputs": [
    {
     "name": "stdout",
     "output_type": "stream",
     "text": [
      "114\n"
     ]
    }
   ],
   "source": [
    "a==b\n",
    "print(a+b)"
   ]
  },
  {
   "cell_type": "code",
   "execution_count": 70,
   "id": "d6b8091f",
   "metadata": {},
   "outputs": [
    {
     "name": "stdout",
     "output_type": "stream",
     "text": [
      "49\n"
     ]
    }
   ],
   "source": [
    "a=45\n",
    "b=4\n",
    "print(a+b)"
   ]
  },
  {
   "cell_type": "code",
   "execution_count": 71,
   "id": "2332f392",
   "metadata": {},
   "outputs": [],
   "source": [
    "def function( argument):\n",
    "   #function\n",
    "\n",
    "    return"
   ]
  },
  {
   "cell_type": "code",
   "execution_count": 72,
   "id": "209d0e19",
   "metadata": {},
   "outputs": [],
   "source": [
    "def greet():\n",
    "    print(\"shahnshah\")"
   ]
  },
  {
   "cell_type": "code",
   "execution_count": 73,
   "id": "4b7fcf9d",
   "metadata": {},
   "outputs": [
    {
     "name": "stdout",
     "output_type": "stream",
     "text": [
      "shahnshah\n"
     ]
    }
   ],
   "source": [
    "greet()"
   ]
  },
  {
   "cell_type": "code",
   "execution_count": 78,
   "id": "55f6fa60",
   "metadata": {},
   "outputs": [],
   "source": [
    "def addnum():\n",
    "    a=10\n",
    "    b=20\n",
    "    c=a+b\n",
    "    print(c)"
   ]
  },
  {
   "cell_type": "code",
   "execution_count": 79,
   "id": "5fddf599",
   "metadata": {},
   "outputs": [
    {
     "name": "stdout",
     "output_type": "stream",
     "text": [
      "30\n"
     ]
    }
   ],
   "source": [
    "addum()"
   ]
  },
  {
   "cell_type": "code",
   "execution_count": 80,
   "id": "d5b4180f",
   "metadata": {},
   "outputs": [
    {
     "name": "stdout",
     "output_type": "stream",
     "text": [
      "30\n"
     ]
    }
   ],
   "source": [
    "addnum()"
   ]
  },
  {
   "cell_type": "code",
   "execution_count": 81,
   "id": "a54cce42",
   "metadata": {},
   "outputs": [],
   "source": [
    "def addtwonumber():\n",
    "    a=input(\"enter first number\")\n",
    "    b=input(\"enter second number\")\n",
    "\n",
    "    c=int(a)+int(b)\n",
    "    print(c)\n"
   ]
  },
  {
   "cell_type": "code",
   "execution_count": 82,
   "id": "ba348565",
   "metadata": {},
   "outputs": [
    {
     "name": "stdout",
     "output_type": "stream",
     "text": [
      "enter first number4\n",
      "enter second number33\n",
      "37\n"
     ]
    }
   ],
   "source": [
    "addtwonumber()"
   ]
  },
  {
   "cell_type": "code",
   "execution_count": 85,
   "id": "adf93468",
   "metadata": {},
   "outputs": [
    {
     "name": "stdout",
     "output_type": "stream",
     "text": [
      "enter first number44\n",
      "enter second number55\n",
      "99\n"
     ]
    }
   ],
   "source": [
    "addtwonumber()"
   ]
  },
  {
   "cell_type": "code",
   "execution_count": null,
   "id": "496cd0b0",
   "metadata": {},
   "outputs": [],
   "source": [
    "addtwonumber()"
   ]
  },
  {
   "cell_type": "code",
   "execution_count": 9,
   "id": "84c0e5d8",
   "metadata": {},
   "outputs": [],
   "source": [
    "def multwonumber(x,y):\n",
    "    a=y\n",
    "    b=y\n",
    "    c=a*b\n",
    "    print(c)"
   ]
  },
  {
   "cell_type": "code",
   "execution_count": 11,
   "id": "12cfc5f5",
   "metadata": {},
   "outputs": [
    {
     "name": "stdout",
     "output_type": "stream",
     "text": [
      "16\n"
     ]
    }
   ],
   "source": [
    "multwonumber(2,4)"
   ]
  },
  {
   "cell_type": "code",
   "execution_count": 8,
   "id": "41c6df72",
   "metadata": {},
   "outputs": [],
   "source": [
    "def introduction(name):\n",
    "    print(\"shahsnha\",name)"
   ]
  },
  {
   "cell_type": "code",
   "execution_count": 9,
   "id": "366a9486",
   "metadata": {},
   "outputs": [
    {
     "name": "stdout",
     "output_type": "stream",
     "text": [
      "shahsnha pwskill\n"
     ]
    }
   ],
   "source": [
    "introduction(\"pwskill\")"
   ]
  },
  {
   "cell_type": "code",
   "execution_count": 13,
   "id": "bd4a82bd",
   "metadata": {},
   "outputs": [],
   "source": [
    "def introduction(name,lastname):\n",
    "    print(\"shahansha\",name+lastname)"
   ]
  },
  {
   "cell_type": "code",
   "execution_count": 15,
   "id": "98cc2589",
   "metadata": {},
   "outputs": [
    {
     "name": "stdout",
     "output_type": "stream",
     "text": [
      "shahansha pwskill\n"
     ]
    }
   ],
   "source": [
    "introduction(\"pw\",\"skill\")"
   ]
  },
  {
   "cell_type": "code",
   "execution_count": null,
   "id": "059b43a0",
   "metadata": {},
   "outputs": [],
   "source": [
    "-22  21\n",
    "23.   -23"
   ]
  },
  {
   "cell_type": "code",
   "execution_count": 25,
   "id": "e9bb0529",
   "metadata": {},
   "outputs": [
    {
     "ename": "SyntaxError",
     "evalue": "invalid syntax (3060806641.py, line 4)",
     "output_type": "error",
     "traceback": [
      "\u001b[0;36m  Cell \u001b[0;32mIn[25], line 4\u001b[0;36m\u001b[0m\n\u001b[0;31m    esle:\u001b[0m\n\u001b[0m         ^\u001b[0m\n\u001b[0;31mSyntaxError\u001b[0m\u001b[0;31m:\u001b[0m invalid syntax\n"
     ]
    }
   ],
   "source": [
    "def absolute(n):\n",
    "    if n>0:\n",
    "        print(n)\n",
    "        esle:\n",
    "        print(-n)"
   ]
  },
  {
   "cell_type": "code",
   "execution_count": 26,
   "id": "fdd1bb90",
   "metadata": {},
   "outputs": [],
   "source": [
    "def absolute(n):\n",
    "    if n > 0:\n",
    "        print(n)\n",
    "    else:\n",
    "        print(-n)\n"
   ]
  },
  {
   "cell_type": "code",
   "execution_count": 30,
   "id": "4253070d",
   "metadata": {},
   "outputs": [
    {
     "name": "stdout",
     "output_type": "stream",
     "text": [
      "55\n"
     ]
    }
   ],
   "source": [
    "absolute(55)"
   ]
  },
  {
   "cell_type": "code",
   "execution_count": 23,
   "id": "eb2ceb84",
   "metadata": {},
   "outputs": [],
   "source": [
    "def fullname(a,b):\n",
    "    c=a+b\n",
    "    return (c)"
   ]
  },
  {
   "cell_type": "code",
   "execution_count": 24,
   "id": "5883595d",
   "metadata": {},
   "outputs": [],
   "source": [
    "x=fullname(\"pw\",\"skill\")"
   ]
  },
  {
   "cell_type": "code",
   "execution_count": 25,
   "id": "73bf4151",
   "metadata": {},
   "outputs": [
    {
     "name": "stdout",
     "output_type": "stream",
     "text": [
      "pwskill\n"
     ]
    }
   ],
   "source": [
    "print(x)"
   ]
  },
  {
   "cell_type": "code",
   "execution_count": 26,
   "id": "53627d39",
   "metadata": {},
   "outputs": [
    {
     "data": {
      "text/plain": [
       "str"
      ]
     },
     "execution_count": 26,
     "metadata": {},
     "output_type": "execute_result"
    }
   ],
   "source": [
    "type(x)"
   ]
  },
  {
   "cell_type": "code",
   "execution_count": 31,
   "id": "c2e1d675",
   "metadata": {},
   "outputs": [],
   "source": [
    "def calculator(a,b):\n",
    "    a=a+b\n",
    "    b=a-b\n",
    "    e=a+b\n",
    "    return a,b,e"
   ]
  },
  {
   "cell_type": "code",
   "execution_count": 32,
   "id": "083a091b",
   "metadata": {},
   "outputs": [
    {
     "data": {
      "text/plain": [
       "(8, 3, 11)"
      ]
     },
     "execution_count": 32,
     "metadata": {},
     "output_type": "execute_result"
    }
   ],
   "source": [
    "calculator(3,5)"
   ]
  },
  {
   "cell_type": "code",
   "execution_count": 1,
   "id": "d86d571f",
   "metadata": {},
   "outputs": [
    {
     "ename": "SyntaxError",
     "evalue": "invalid syntax (3535405430.py, line 1)",
     "output_type": "error",
     "traceback": [
      "\u001b[0;36m  Cell \u001b[0;32mIn[1], line 1\u001b[0;36m\u001b[0m\n\u001b[0;31m    find area of circle -----3.3*r*r\u001b[0m\n\u001b[0m         ^\u001b[0m\n\u001b[0;31mSyntaxError\u001b[0m\u001b[0;31m:\u001b[0m invalid syntax\n"
     ]
    }
   ],
   "source": [
    "find area of circle -----3.3*r*r\n",
    "find area of rec ------1*b\n",
    "find area of tringle--1/2*b*h"
   ]
  },
  {
   "cell_type": "code",
   "execution_count": 2,
   "id": "55201385",
   "metadata": {},
   "outputs": [],
   "source": [
    "def area_rect(l,b):\n",
    "    area=l*b\n",
    "    return area"
   ]
  },
  {
   "cell_type": "code",
   "execution_count": 3,
   "id": "cded5759",
   "metadata": {},
   "outputs": [
    {
     "data": {
      "text/plain": [
       "12"
      ]
     },
     "execution_count": 3,
     "metadata": {},
     "output_type": "execute_result"
    }
   ],
   "source": [
    "area_rect(3,4)"
   ]
  },
  {
   "cell_type": "code",
   "execution_count": 6,
   "id": "c7291ba1",
   "metadata": {},
   "outputs": [],
   "source": [
    "def area(b,h):\n",
    "    return 0.5*b*h"
   ]
  },
  {
   "cell_type": "code",
   "execution_count": 9,
   "id": "11f6c5ee",
   "metadata": {},
   "outputs": [
    {
     "data": {
      "text/plain": [
       "6.0"
      ]
     },
     "execution_count": 9,
     "metadata": {},
     "output_type": "execute_result"
    }
   ],
   "source": [
    "area(3,4)"
   ]
  },
  {
   "cell_type": "markdown",
   "id": "1b124f95",
   "metadata": {},
   "source": [
    "print the first 5 positive integer in  accending order with one number in each line"
   ]
  },
  {
   "cell_type": "code",
   "execution_count": 15,
   "id": "ed376b40",
   "metadata": {},
   "outputs": [
    {
     "name": "stdout",
     "output_type": "stream",
     "text": [
      "1\n",
      "2\n",
      "3\n",
      "4\n",
      "5\n"
     ]
    }
   ],
   "source": [
    "for i in range(1,6):\n",
    "    print(i)"
   ]
  },
  {
   "cell_type": "code",
   "execution_count": 13,
   "id": "f08f28c8",
   "metadata": {},
   "outputs": [
    {
     "name": "stdout",
     "output_type": "stream",
     "text": [
      "1\n",
      "2\n",
      "3\n",
      "4\n",
      "5\n"
     ]
    }
   ],
   "source": [
    "for i in range(1, 6):\n",
    "    print(i)"
   ]
  },
  {
   "cell_type": "code",
   "execution_count": 22,
   "id": "6d1fa2d1",
   "metadata": {},
   "outputs": [
    {
     "name": "stdout",
     "output_type": "stream",
     "text": [
      "0\n",
      "1\n",
      "2\n",
      "3\n",
      "4\n",
      "5\n"
     ]
    }
   ],
   "source": [
    "def number():\n",
    "    for i in range(6):\n",
    "        print(i)\n",
    "number()"
   ]
  },
  {
   "cell_type": "code",
   "execution_count": 19,
   "id": "9e25a793",
   "metadata": {},
   "outputs": [
    {
     "name": "stdout",
     "output_type": "stream",
     "text": [
      "0\n",
      "1\n",
      "2\n",
      "3\n",
      "4\n",
      "5\n"
     ]
    }
   ],
   "source": [
    "def number():\n",
    "    for i in range(6):\n",
    "        print(i)\n",
    "\n",
    "# Call the function\n",
    "number()\n"
   ]
  },
  {
   "cell_type": "markdown",
   "id": "f0ec27df",
   "metadata": {},
   "source": [
    "3 accept an integer as input and its print its square as output"
   ]
  },
  {
   "cell_type": "code",
   "execution_count": 25,
   "id": "19969ddc",
   "metadata": {},
   "outputs": [],
   "source": [
    "def sq():\n",
    "    a=int(input(\"enter the number\"))\n",
    "    return a*a"
   ]
  },
  {
   "cell_type": "code",
   "execution_count": 26,
   "id": "a8c8ca9b",
   "metadata": {},
   "outputs": [
    {
     "name": "stdout",
     "output_type": "stream",
     "text": [
      "enter the number12\n"
     ]
    },
    {
     "data": {
      "text/plain": [
       "144"
      ]
     },
     "execution_count": 26,
     "metadata": {},
     "output_type": "execute_result"
    }
   ],
   "source": [
    "sq()"
   ]
  },
  {
   "cell_type": "markdown",
   "id": "665b8ce8",
   "metadata": {},
   "source": [
    "4:accept two integer as input and print third sum as output"
   ]
  },
  {
   "cell_type": "code",
   "execution_count": 6,
   "id": "0024a475",
   "metadata": {},
   "outputs": [
    {
     "name": "stdout",
     "output_type": "stream",
     "text": [
      "enter the first number33\n",
      "enter the second number44\n",
      "77\n"
     ]
    }
   ],
   "source": [
    "num1=int(input(\"enter the first number\"))\n",
    "num2=int(input(\"enter the second number\"))\n",
    "num3=num1+num2\n",
    "print( num1+num2)"
   ]
  },
  {
   "cell_type": "code",
   "execution_count": 7,
   "id": "0b862c28",
   "metadata": {},
   "outputs": [
    {
     "name": "stdout",
     "output_type": "stream",
     "text": [
      "Enter the first integer: 45\n",
      "Enter the second integer: 445\n",
      "The sum of 45 and 445 is: 490\n"
     ]
    }
   ],
   "source": [
    "def print_sum():\n",
    "    # Accept two integers as input\n",
    "    num1 = int(input(\"Enter the first integer: \"))\n",
    "    num2 = int(input(\"Enter the second integer: \"))\n",
    "    \n",
    "    # Calculate the sum\n",
    "    total_sum = num1 + num2\n",
    "    \n",
    "    # Print the result\n",
    "    print(f\"The sum of {num1} and {num2} is: {total_sum}\")\n",
    "\n",
    "# Call the function\n",
    "print_sum()\n"
   ]
  },
  {
   "cell_type": "code",
   "execution_count": 9,
   "id": "221c7a88",
   "metadata": {},
   "outputs": [],
   "source": [
    "def fullname(first,second):\n",
    "    print(first,\"\",second)"
   ]
  },
  {
   "cell_type": "code",
   "execution_count": 12,
   "id": "8356f300",
   "metadata": {},
   "outputs": [
    {
     "name": "stdout",
     "output_type": "stream",
     "text": [
      "mohammad  shahahsnah\n"
     ]
    }
   ],
   "source": [
    "fullname(\"mohammad\",\"shahahsnah\")"
   ]
  },
  {
   "cell_type": "markdown",
   "id": "121cc153",
   "metadata": {},
   "source": [
    "create a python program that include a user define function cal print_even_number()"
   ]
  },
  {
   "cell_type": "code",
   "execution_count": 15,
   "id": "cba91338",
   "metadata": {},
   "outputs": [],
   "source": [
    "def print_even_number():\n",
    "    limit1=int(input(\"enter the first limit of even number\"))\n",
    "    limit2=int(input(\"enter the second limit of even number\"))\n",
    "    for i in range(limit1,limit2+1):\n",
    "        if i%2==0:\n",
    "            print(i,end=\"  \")\n",
    "    \n",
    "    "
   ]
  },
  {
   "cell_type": "code",
   "execution_count": 18,
   "id": "b0a17da6",
   "metadata": {},
   "outputs": [
    {
     "name": "stdout",
     "output_type": "stream",
     "text": [
      "enter the first limit of even number0\n",
      "enter the second limit of even number50\n",
      "0  2  4  6  8  10  12  14  16  18  20  22  24  26  28  30  32  34  36  38  40  42  44  46  48  50  "
     ]
    }
   ],
   "source": [
    " print_even_number()"
   ]
  },
  {
   "cell_type": "markdown",
   "id": "07cd58f7",
   "metadata": {},
   "source": [
    "# sesson end"
   ]
  }
 ],
 "metadata": {
  "kernelspec": {
   "display_name": "Python 3 (ipykernel)",
   "language": "python",
   "name": "python3"
  },
  "language_info": {
   "codemirror_mode": {
    "name": "ipython",
    "version": 3
   },
   "file_extension": ".py",
   "mimetype": "text/x-python",
   "name": "python",
   "nbconvert_exporter": "python",
   "pygments_lexer": "ipython3",
   "version": "3.11.5"
  }
 },
 "nbformat": 4,
 "nbformat_minor": 5
}
